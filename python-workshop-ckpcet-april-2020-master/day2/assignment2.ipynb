{
 "cells": [
  {
   "cell_type": "markdown",
   "metadata": {},
   "source": [
    "## Module 1: Python Essentials"
   ]
  },
  {
   "cell_type": "code",
   "execution_count": 1,
   "metadata": {},
   "outputs": [],
   "source": [
    "# Problem: Use list comprehension to filter number between given bounds [4 Points]\n",
    "def filter_integers_in_bound(upper_bound, lower_bound, numbers):\n",
    "        return list(filter(lambda x: x <= lower_bound and x >= upper_bound, numbers))\n",
    "\n",
    "assert filter_integers_in_bound(3, 9, [12, 3, 6, 9, 4, 0, 24]) == [3, 6, 9, 4]\n",
    "assert filter_integers_in_bound(-7, 6, [-10, 3, 56, 19, 4, 0, -5]) == [3, 4, 0, -5]"
   ]
  },
  {
   "cell_type": "code",
   "execution_count": 2,
   "metadata": {},
   "outputs": [],
   "source": [
    "# Problem: Use set to do following on two set of strings  [4 Points]\n",
    "def return_number_of_common_words(string1, string2):\n",
    "    split1 = string1.split()\n",
    "    split2 = set(split1)\n",
    "    split3 = string2.split()\n",
    "    split4 = set(split3)\n",
    "    num = 0\n",
    "    for i in split4:\n",
    "        for j in split2:\n",
    "            if i == j:\n",
    "                num += 1\n",
    "    return num\n",
    "\n",
    "assert return_number_of_common_words(\"hi hello\", \"hi\") == 1\n",
    "assert return_number_of_common_words(\"this is testing work\", \"this is training work\") == 3\n",
    "assert return_number_of_common_words(\"work is in progress\", \"No one cares\") == 0"
   ]
  },
  {
   "cell_type": "code",
   "execution_count": 3,
   "metadata": {},
   "outputs": [
    {
     "ename": "AssertionError",
     "evalue": "",
     "output_type": "error",
     "traceback": [
      "\u001b[1;31m---------------------------------------------------------------------------\u001b[0m",
      "\u001b[1;31mAssertionError\u001b[0m                            Traceback (most recent call last)",
      "\u001b[1;32m<ipython-input-3-999340eef3ae>\u001b[0m in \u001b[0;36m<module>\u001b[1;34m\u001b[0m\n\u001b[0;32m      7\u001b[0m         \u001b[0mresult\u001b[0m\u001b[1;33m[\u001b[0m\u001b[0mi\u001b[0m\u001b[1;33m]\u001b[0m \u001b[1;33m=\u001b[0m \u001b[0minput_string\u001b[0m\u001b[1;33m.\u001b[0m\u001b[0mcount\u001b[0m\u001b[1;33m(\u001b[0m\u001b[0mi\u001b[0m\u001b[1;33m)\u001b[0m\u001b[1;33m\u001b[0m\u001b[1;33m\u001b[0m\u001b[0m\n\u001b[0;32m      8\u001b[0m     \u001b[1;32mreturn\u001b[0m \u001b[0mresult\u001b[0m\u001b[1;33m\u001b[0m\u001b[1;33m\u001b[0m\u001b[0m\n\u001b[1;32m----> 9\u001b[1;33m \u001b[1;32massert\u001b[0m \u001b[0mget_word_count\u001b[0m\u001b[1;33m(\u001b[0m\u001b[1;34m\"hi hello hi i\"\u001b[0m\u001b[1;33m)\u001b[0m \u001b[1;33m==\u001b[0m \u001b[1;33m{\u001b[0m\u001b[1;34m\"hi\"\u001b[0m\u001b[1;33m:\u001b[0m \u001b[1;36m2\u001b[0m\u001b[1;33m,\u001b[0m \u001b[1;34m\"hello\"\u001b[0m\u001b[1;33m:\u001b[0m \u001b[1;36m1\u001b[0m\u001b[1;33m,\u001b[0m \u001b[1;34m\"i\"\u001b[0m\u001b[1;33m:\u001b[0m \u001b[1;36m1\u001b[0m\u001b[1;33m}\u001b[0m\u001b[1;33m\u001b[0m\u001b[1;33m\u001b[0m\u001b[0m\n\u001b[0m",
      "\u001b[1;31mAssertionError\u001b[0m: "
     ]
    }
   ],
   "source": [
    "# Problem: Returns the dictionary of words and their frequency in input string [6 Points]\n",
    "def get_word_count(input_string):\n",
    "    result = dict()\n",
    "    # todo\n",
    "    str1 = input_string.split()\n",
    "    for i in str1:\n",
    "        result[i] = input_string.count(i)\n",
    "    return result\n",
    "assert get_word_count(\"hi hello hi i\") == {\"hi\": 2, \"hello\": 1, \"i\": 1}"
   ]
  },
  {
   "cell_type": "code",
   "execution_count": 4,
   "metadata": {},
   "outputs": [],
   "source": [
    "# Problem: apply function on input and return result [2 Points]\n",
    "def method_runner(function, input_data):\n",
    "        return function(input_data)\n",
    "\n",
    "\n",
    "assert method_runner(min, [2, 5, 0.9, 6.4]) == 0.9\n",
    "assert method_runner(lambda x: x*x, 5) == 25\n",
    "def foo(n1):\n",
    "    return n1*n1+n1 \n",
    "assert method_runner(foo, 6) == 42"
   ]
  },
  {
   "cell_type": "markdown",
   "metadata": {},
   "source": [
    "## Module 2: OOP"
   ]
  },
  {
   "cell_type": "code",
   "execution_count": 12,
   "metadata": {},
   "outputs": [
    {
     "ename": "AssertionError",
     "evalue": "",
     "output_type": "error",
     "traceback": [
      "\u001b[1;31m---------------------------------------------------------------------------\u001b[0m",
      "\u001b[1;31mAssertionError\u001b[0m                            Traceback (most recent call last)",
      "\u001b[1;32m<ipython-input-12-4678e61c66bb>\u001b[0m in \u001b[0;36m<module>\u001b[1;34m\u001b[0m\n\u001b[0;32m     29\u001b[0m \u001b[0mc\u001b[0m \u001b[1;33m=\u001b[0m \u001b[0mCar\u001b[0m\u001b[1;33m(\u001b[0m\u001b[1;34m\"BMW\"\u001b[0m\u001b[1;33m,\u001b[0m \u001b[1;36m2015\u001b[0m\u001b[1;33m,\u001b[0m \u001b[1;34m\"X1\"\u001b[0m\u001b[1;33m)\u001b[0m\u001b[1;33m\u001b[0m\u001b[1;33m\u001b[0m\u001b[0m\n\u001b[0;32m     30\u001b[0m \u001b[1;31m# 2\u001b[0m\u001b[1;33m\u001b[0m\u001b[1;33m\u001b[0m\u001b[1;33m\u001b[0m\u001b[0m\n\u001b[1;32m---> 31\u001b[1;33m \u001b[1;32massert\u001b[0m \u001b[0mstr\u001b[0m\u001b[1;33m(\u001b[0m\u001b[0mc\u001b[0m\u001b[1;33m)\u001b[0m \u001b[1;33m==\u001b[0m \u001b[1;34m\"BMW's model X1, built in 2015.\"\u001b[0m\u001b[1;33m\u001b[0m\u001b[1;33m\u001b[0m\u001b[0m\n\u001b[0m\u001b[0;32m     32\u001b[0m \u001b[1;31m# 3\u001b[0m\u001b[1;33m\u001b[0m\u001b[1;33m\u001b[0m\u001b[1;33m\u001b[0m\u001b[0m\n\u001b[0;32m     33\u001b[0m \u001b[1;32massert\u001b[0m \u001b[0mc\u001b[0m\u001b[1;33m.\u001b[0m\u001b[0mlist_features\u001b[0m\u001b[1;33m(\u001b[0m\u001b[1;33m)\u001b[0m \u001b[1;33m==\u001b[0m \u001b[1;33m[\u001b[0m\u001b[1;33m]\u001b[0m\u001b[1;33m\u001b[0m\u001b[1;33m\u001b[0m\u001b[0m\n",
      "\u001b[1;31mAssertionError\u001b[0m: "
     ]
    }
   ],
   "source": [
    "# Problem: 1. Design and write a class for Car with constructor. [2 Point]\n",
    "#          2. Include custom print capabilities. [1 Points] \n",
    "#          3. Also method to add & list features. [3 Points] \n",
    "#          4. Customize object compare so two cars are equal if make and model_name are same. [2 Point]\n",
    "\n",
    "\n",
    "class Car:\n",
    "    def __init__(self, cname, num, mod):\n",
    "        self.cname = cname\n",
    "        self.num = num\n",
    "        self.mod = mod\n",
    "        self.features = []\n",
    "\n",
    "    def list_features(self):\n",
    "        return self.features\n",
    "\n",
    "    def add_feature(self, name):\n",
    "        self.features.append(name)\n",
    "    \n",
    "    def __eq__(self, other):\n",
    "        return self.cname == other.cname and self.mod == other.mod\n",
    "\n",
    "\n",
    "\n",
    "def str(c):\n",
    "    s1=f\"{c.cname}'s model {c.mod}, built in {c.num}\"\n",
    "    return s1\n",
    "# 1\n",
    "c = Car(\"BMW\", 2015, \"X1\")\n",
    "# 2\n",
    "assert str(c) == \"BMW's model X1, built in 2015.\"\n",
    "# 3\n",
    "assert c.list_features() == []\n",
    "c.add_feature(\"iDrive 6.0 Systems\")\n",
    "c.add_feature(\"Dynamic Cruise Control\")\n",
    "assert c.list_features() == [\"iDrive 6.0 Systems\", \"Dynamic Cruise Control\"]\n",
    "# 4\n",
    "assert Car(\"BMW\", 2014, \"M8\") == Car(\"BMW\", 2018, \"M8\")\n",
    "assert Car(\"BMW\", 2014, \"M8\") != Car(\"BMW\", 2014, \"i220\")"
   ]
  },
  {
   "cell_type": "code",
   "execution_count": 7,
   "metadata": {},
   "outputs": [],
   "source": [
    "# Problem: Design classes where one is parent & other is child. let child call the parent method. [2 Points]\n",
    "\n",
    "class Parent:\n",
    "    def run_parent_method(self):\n",
    "        s1=\"This is parent method\"\n",
    "        return s1\n",
    "\n",
    "\n",
    "class Child(Parent):\n",
    "\n",
    "    def run_child_method(self):\n",
    "        s2=\"This is child method\"\n",
    "        return s2\n",
    "\n",
    "assert Child().run_parent_method() == \"This is parent method\"\n",
    "assert Child().run_child_method() == \"This is child method\""
   ]
  },
  {
   "cell_type": "code",
   "execution_count": null,
   "metadata": {},
   "outputs": [],
   "source": []
  }
 ],
 "metadata": {
  "kernelspec": {
   "display_name": "Python 3",
   "language": "python",
   "name": "python3"
  },
  "language_info": {
   "codemirror_mode": {
    "name": "ipython",
    "version": 3
   },
   "file_extension": ".py",
   "mimetype": "text/x-python",
   "name": "python",
   "nbconvert_exporter": "python",
   "pygments_lexer": "ipython3",
   "version": "3.7.6"
  }
 },
 "nbformat": 4,
 "nbformat_minor": 4
}
